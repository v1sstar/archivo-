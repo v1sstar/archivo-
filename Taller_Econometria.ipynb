{
  "nbformat": 4,
  "nbformat_minor": 0,
  "metadata": {
    "colab": {
      "provenance": []
    },
    "kernelspec": {
      "name": "python3",
      "display_name": "Python 3"
    },
    "language_info": {
      "name": "python"
    }
  },
  "cells": [
    {
      "cell_type": "markdown",
      "source": [
        "**Taller Econometria 12/04/2023**\n",
        "- Johan Stewart Fierro Martínez\n",
        "- Juan Manuel\n",
        "- Anderson David Cetina Ruiz"
      ],
      "metadata": {
        "id": "YDooxOO_BC_h"
      }
    },
    {
      "cell_type": "markdown",
      "source": [
        "## a) Crea un programa que tome una lista de números como entrada y devuelva la suma de todos los números en la lista."
      ],
      "metadata": {
        "id": "wt6-L8GU4R7w"
      }
    },
    {
      "cell_type": "code",
      "source": [
        "Lista = [1, 2, 3, 4, 5, 6, 7, 8, 9, 10]\n",
        "sum(Lista)"
      ],
      "metadata": {
        "id": "ih2yGygg7RlC",
        "colab": {
          "base_uri": "https://localhost:8080/"
        },
        "outputId": "b9fff153-61b7-4a6b-cb95-215c0b541d61"
      },
      "execution_count": null,
      "outputs": [
        {
          "output_type": "execute_result",
          "data": {
            "text/plain": [
              "55"
            ]
          },
          "metadata": {},
          "execution_count": 1
        }
      ]
    },
    {
      "cell_type": "markdown",
      "source": [
        "## b) Escribe un programa que tome dos listas y devuelva una nueva lista que contenga todos los elementos que son comunes a ambas listas."
      ],
      "metadata": {
        "id": "tk3kGcNg7jg1"
      }
    },
    {
      "cell_type": "code",
      "source": [
        "a = [1,2,3,4,5,6,7,8,9,0]"
      ],
      "metadata": {
        "id": "6Wxvbcm67zxa"
      },
      "execution_count": null,
      "outputs": []
    },
    {
      "cell_type": "code",
      "source": [
        "b = [2,4,6,8,10]"
      ],
      "metadata": {
        "id": "HeODCvtB78W2"
      },
      "execution_count": null,
      "outputs": []
    },
    {
      "cell_type": "code",
      "source": [
        "comunes=[]"
      ],
      "metadata": {
        "id": "8BrcEdTx8Ky-"
      },
      "execution_count": null,
      "outputs": []
    },
    {
      "cell_type": "code",
      "source": [
        "for elementos in a: \n",
        "  if elementos in b: \n",
        "    comunes.append(elementos) \n",
        "    print(comunes)"
      ],
      "metadata": {
        "colab": {
          "base_uri": "https://localhost:8080/"
        },
        "id": "kft4TnMi8Hi3",
        "outputId": "29b31da3-98b0-445e-e44c-6cd5ebe77fea"
      },
      "execution_count": null,
      "outputs": [
        {
          "output_type": "stream",
          "name": "stdout",
          "text": [
            "[2]\n",
            "[2, 4]\n",
            "[2, 4, 6]\n",
            "[2, 4, 6, 8]\n"
          ]
        }
      ]
    },
    {
      "cell_type": "markdown",
      "source": [
        "## c) Crea un programa que tome una lista de cadenas como entrada y devuelva la longitud de la cadena más larga en la lista.\n"
      ],
      "metadata": {
        "id": "VHF7W8NN8xiN"
      }
    },
    {
      "cell_type": "code",
      "source": [
        "listaB = [\"perro\", \"gato\", \"loro\", \"cocodrilo\", \"lombris\", \"cerdo\", \"pez\"]\n",
        "listaC = listaB[0]\n",
        "for cadena in listaB:\n",
        "  if len(cadena)>=len(listaC):\n",
        "    listaC=cadena\n",
        "print(listaC)"
      ],
      "metadata": {
        "colab": {
          "base_uri": "https://localhost:8080/"
        },
        "id": "88gbzHbHxL2-",
        "outputId": "7e5826f2-771f-45ec-aa0e-688bd55cd9fd"
      },
      "execution_count": null,
      "outputs": [
        {
          "output_type": "stream",
          "name": "stdout",
          "text": [
            "cocodrilo\n"
          ]
        }
      ]
    },
    {
      "cell_type": "markdown",
      "source": [
        "## d) Escribe un programa que tome una lista de números como entrada y devuelva una nueva lista que contenga solo los números pares de la lista original.\n"
      ],
      "metadata": {
        "id": "ThMrHMwYCbEa"
      }
    },
    {
      "cell_type": "code",
      "source": [
        "a = [1,2,3,4,5,6,7,8,9,10,12,14]\n",
        "\n",
        "pares = [numero for numero in a if numero % 2 == 0]\n",
        "\n",
        "print(pares)\n"
      ],
      "metadata": {
        "colab": {
          "base_uri": "https://localhost:8080/"
        },
        "id": "akezawKY-afE",
        "outputId": "34c0257c-2462-497d-c7ea-b0d8e31c0161"
      },
      "execution_count": null,
      "outputs": [
        {
          "output_type": "stream",
          "name": "stdout",
          "text": [
            "[2, 4, 6, 8, 10, 12, 14]\n"
          ]
        }
      ]
    },
    {
      "cell_type": "markdown",
      "source": [
        "## f) Escribe un programa que tome un diccionario como entrada y devuelva el valor asociado con una clave dada.\n"
      ],
      "metadata": {
        "id": "lXQkNAE3BcGc"
      }
    },
    {
      "cell_type": "code",
      "source": [
        "dicc = {'nombres':['juan','ander','johan'],'edad':[15,20,30]}\n",
        "dicc['nombres']"
      ],
      "metadata": {
        "id": "LAxjYi_o-ffj",
        "colab": {
          "base_uri": "https://localhost:8080/"
        },
        "outputId": "cdc81830-ba2d-42ac-c284-ad74c96cfc58"
      },
      "execution_count": null,
      "outputs": [
        {
          "output_type": "execute_result",
          "data": {
            "text/plain": [
              "['juan', 'ander', 'johan']"
            ]
          },
          "metadata": {},
          "execution_count": 3
        }
      ]
    },
    {
      "cell_type": "markdown",
      "source": [
        "## e) Crea un programa que tome una lista de cadenas como entrada y devuelva una nueva lista que contenga solo las cadenas que comienzan con la letra \"a\"."
      ],
      "metadata": {
        "id": "5E6se6TMD8uK"
      }
    },
    {
      "cell_type": "code",
      "source": [
        "A=[\"avion\",\"hola\",\"amigo\",\"ñero\",\"amarillo\",\"visajoso\",\"amaranta\",\"amor\"]"
      ],
      "metadata": {
        "id": "FD6jWr-eEA4g"
      },
      "execution_count": null,
      "outputs": []
    },
    {
      "cell_type": "code",
      "source": [
        "comienzaA = []"
      ],
      "metadata": {
        "id": "S_LtoZiv1tnT"
      },
      "execution_count": null,
      "outputs": []
    },
    {
      "cell_type": "code",
      "source": [
        "for nombres in A:\n",
        "  if nombres.startswith(\"a\"):\n",
        "    comienzaA.append(nombres)\n",
        "\n",
        "print(comienzaA)"
      ],
      "metadata": {
        "colab": {
          "base_uri": "https://localhost:8080/"
        },
        "id": "dmizQ8X91Ad3",
        "outputId": "92a70cef-de7a-402b-ee3b-01373782739d"
      },
      "execution_count": null,
      "outputs": [
        {
          "output_type": "stream",
          "name": "stdout",
          "text": [
            "['avion', 'amigo', 'amarillo', 'amaranta', 'amor']\n"
          ]
        }
      ]
    },
    {
      "cell_type": "markdown",
      "source": [
        "\n",
        "## G) Crea un programa que tome una lista de diccionarios como entrada y devuelva una nueva lista que contenga solo los diccionarios que tienen una cierta clave."
      ],
      "metadata": {
        "id": "km9ByuNWB6MK"
      }
    },
    {
      "cell_type": "code",
      "source": [
        "diccionarios = [\n",
        "    {'nombre': 'Juan', 'edad': 25},\n",
        "    {'nombre': 'Jaría', 'edad': 30, 'ciudad': 'Madrid'},\n",
        "    {'nombre': 'Pedro', 'edad': 20, 'ciudad': 'Barcelona'},\n",
        "    {'nombre': 'Ana', 'edad': 35},\n",
        "]"
      ],
      "metadata": {
        "id": "qp7QSaU4Ce8i"
      },
      "execution_count": null,
      "outputs": []
    },
    {
      "cell_type": "code",
      "source": [
        "solo=[]\n",
        "for valores in diccionarios:\n",
        "  for claves in valores.keys():\n",
        "    if isinstance(valores[claves],str) and valores[claves].startswith('J'):\n",
        "      solo.append(valores)\n",
        "      break\n",
        "print(solo)"
      ],
      "metadata": {
        "colab": {
          "base_uri": "https://localhost:8080/"
        },
        "id": "6B55lrJ5-czZ",
        "outputId": "9f4eb931-30a8-4d3f-9748-cca20ca1eb4d"
      },
      "execution_count": null,
      "outputs": [
        {
          "output_type": "stream",
          "name": "stdout",
          "text": [
            "[{'nombre': 'Juan', 'edad': 25}, {'nombre': 'Jaría', 'edad': 30, 'ciudad': 'Madrid'}]\n"
          ]
        }
      ]
    },
    {
      "cell_type": "markdown",
      "source": [
        "## h) Escribe un programa que tome un diccionario como entrada y devuelva un nuevo diccionario con las claves y los valores intercambiados.\n"
      ],
      "metadata": {
        "id": "4lvDGmZfCuWy"
      }
    },
    {
      "cell_type": "code",
      "source": [
        "dicc = {'nombres': ['juan', 'ander', 'johan'], 'edad': {15, 20, 30}}\n",
        "\n",
        "nuevo = {}\n",
        "\n",
        "for clave, valor in dicc.items():\n",
        "    for item in valor:\n",
        "        nuevo[item] = clave\n",
        "\n",
        "print(nuevo)\n",
        "\n"
      ],
      "metadata": {
        "colab": {
          "base_uri": "https://localhost:8080/"
        },
        "id": "I05AgN_xaN5Z",
        "outputId": "73a98191-c428-48a4-8fe9-9cf89a602d25"
      },
      "execution_count": null,
      "outputs": [
        {
          "output_type": "stream",
          "name": "stdout",
          "text": [
            "{'juan': 'nombres', 'ander': 'nombres', 'johan': 'nombres', 20: 'edad', 30: 'edad', 15: 'edad'}\n"
          ]
        }
      ]
    },
    {
      "cell_type": "markdown",
      "source": [
        "## i) Crea un programa que tome dos diccionarios como entrada y devuelva un nuevo diccionario que contenga solo los pares clave-valor que son comunes a ambos diccionarios."
      ],
      "metadata": {
        "id": "0-rJnfNiEaZY"
      }
    },
    {
      "cell_type": "code",
      "source": [
        "primero = {'computador': [3000], 'mouse': [150000]}\n",
        "segundo = {'mouse': [150000], 'mousepad': [5000]}\n",
        "valores_iguales = {}\n",
        "\n",
        "for key in primero.keys():\n",
        "    if key in segundo.keys() and primero[key] == segundo[key]:\n",
        "        valores_iguales[key] = primero[key]\n",
        "\n",
        "print(valores_iguales)"
      ],
      "metadata": {
        "colab": {
          "base_uri": "https://localhost:8080/"
        },
        "id": "V4wMl-FHH6K3",
        "outputId": "4ae37bd0-1e44-4936-9d81-49e611eb32d2"
      },
      "execution_count": null,
      "outputs": [
        {
          "output_type": "stream",
          "name": "stdout",
          "text": [
            "{'mouse': [150000]}\n"
          ]
        }
      ]
    },
    {
      "cell_type": "markdown",
      "source": [
        "J) Escribe un programa que tome un diccionario como entrada y devuelva un nuevvo diccionario con las claves ordenadas alfabeticamente.\n"
      ],
      "metadata": {
        "id": "oL-PkKx2GEXC"
      }
    },
    {
      "cell_type": "code",
      "source": [
        "animales={'anderson':20,'manuel':25,'johan':30}\n",
        "lst=list(animales.keys())\n",
        "lst.sort()\n",
        "for key in lst:\n",
        "  print(key,animales[key])"
      ],
      "metadata": {
        "colab": {
          "base_uri": "https://localhost:8080/"
        },
        "id": "owNFe7OQGRDl",
        "outputId": "4dafb4ef-5f7e-4c88-9d7a-b56e17a01963"
      },
      "execution_count": 2,
      "outputs": [
        {
          "output_type": "stream",
          "name": "stdout",
          "text": [
            "anderson 20\n",
            "johan 30\n",
            "manuel 25\n"
          ]
        }
      ]
    },
    {
      "cell_type": "markdown",
      "source": [
        "## k) Escribe una función que tome dos números como entrada y devuelva su suma."
      ],
      "metadata": {
        "id": "5rI8sKMVHYSN"
      }
    },
    {
      "cell_type": "code",
      "source": [
        "x= 2\n",
        "y= 3\n",
        "z= x+y\n",
        "z"
      ],
      "metadata": {
        "id": "iCgQQhdUHDoK",
        "colab": {
          "base_uri": "https://localhost:8080/"
        },
        "outputId": "e30b9244-24af-4f3a-e75c-caa150d863ac"
      },
      "execution_count": null,
      "outputs": [
        {
          "output_type": "execute_result",
          "data": {
            "text/plain": [
              "5"
            ]
          },
          "metadata": {},
          "execution_count": 69
        }
      ]
    },
    {
      "cell_type": "markdown",
      "source": [
        "## L) Crea una función que tome una lista de cadenas como entrada y devuelva una nueva lista que contenga solo las cadenas que son más largas que una longitud dada."
      ],
      "metadata": {
        "id": "8KoU5j0kHrjm"
      }
    },
    {
      "cell_type": "code",
      "source": [
        "listaB = [\"perro\", \"gato\", \"loro\", \"cocodrilo\", \"lombris\", \"cerdo\", \"pez\"]\n",
        "letras2=[]\n",
        "for cadena in listaB:\n",
        "  if len(cadena)> 5:\n",
        "    letras2.append(cadena)\n",
        "print(letras2)"
      ],
      "metadata": {
        "id": "pAv1eXP0Hs9g",
        "colab": {
          "base_uri": "https://localhost:8080/"
        },
        "outputId": "e0908dab-ec51-4581-e643-b6d3bc897fb2"
      },
      "execution_count": null,
      "outputs": [
        {
          "output_type": "stream",
          "name": "stdout",
          "text": [
            "['cocodrilo', 'lombris']\n"
          ]
        }
      ]
    },
    {
      "cell_type": "code",
      "source": [],
      "metadata": {
        "id": "OsS-UWWjT4ZC"
      },
      "execution_count": null,
      "outputs": []
    },
    {
      "cell_type": "markdown",
      "source": [
        "**m)** Escribe una función que tome una cadena como entrada y devuelva True si la cadena es un palíndromo, False en caso contrario."
      ],
      "metadata": {
        "id": "Lgl3mcs8VS_k"
      }
    },
    {
      "cell_type": "code",
      "source": [
        "palindromo= ['solos']\n",
        "reverse = palindromo[::-1]\n",
        "\n",
        "if (palindromo==reverse):\n",
        "    print('True')\n",
        "else:\n",
        "  print('False')\n"
      ],
      "metadata": {
        "colab": {
          "base_uri": "https://localhost:8080/"
        },
        "id": "PkNigDo7bG2L",
        "outputId": "99a3a94b-05da-49d2-d477-4e1525b663ed"
      },
      "execution_count": null,
      "outputs": [
        {
          "output_type": "stream",
          "name": "stdout",
          "text": [
            "True\n"
          ]
        }
      ]
    },
    {
      "cell_type": "code",
      "source": [
        "def palindromo2(palabra):\n",
        "    return palabra == palabra[::-1]\n",
        "print(palindromo2('solos'))\n",
        "print(palindromo2('color'))\n",
        "print(palindromo2('ojo'))"
      ],
      "metadata": {
        "colab": {
          "base_uri": "https://localhost:8080/"
        },
        "id": "GdKu0yG-kpKC",
        "outputId": "a9e2705b-cd06-49fc-89de-ac73a65c7fdd"
      },
      "execution_count": null,
      "outputs": [
        {
          "output_type": "stream",
          "name": "stdout",
          "text": [
            "True\n",
            "False\n",
            "True\n"
          ]
        }
      ]
    },
    {
      "cell_type": "markdown",
      "source": [
        "n)Crea una función que tome una lista de números como entrada y devuelva el promedio de todos los números en la lista"
      ],
      "metadata": {
        "id": "zQvXN0c9nnH_"
      }
    },
    {
      "cell_type": "code",
      "source": [
        "numeros=[1,2,3,4,5,6,7,8,9,10,5000]\n",
        "promedio=sum(numeros)/len(numeros)\n",
        "print(promedio)"
      ],
      "metadata": {
        "colab": {
          "base_uri": "https://localhost:8080/"
        },
        "id": "xs6dCAuansKJ",
        "outputId": "dc6d71ce-afec-4711-a9f6-c47af50ba3c5"
      },
      "execution_count": null,
      "outputs": [
        {
          "output_type": "stream",
          "name": "stdout",
          "text": [
            "459.54545454545456\n"
          ]
        }
      ]
    },
    {
      "cell_type": "markdown",
      "source": [
        "o) Escribe una función que tome un diccionario como entrada y devuelva una lista de todas las claves en el diccionario."
      ],
      "metadata": {
        "id": "fQT3ZBWrrDY7"
      }
    },
    {
      "cell_type": "code",
      "source": [
        "dicc = {'nombres':['juan','ander','johan'],'edad':[15,20,30]}\n",
        "claves=dicc.keys()\n",
        "print(\"las claves del diccionario son:\")\n",
        "for clave in claves:\n",
        "  print(clave)"
      ],
      "metadata": {
        "colab": {
          "base_uri": "https://localhost:8080/"
        },
        "id": "Uh1z15dlrEXC",
        "outputId": "7a5acf7b-904a-4131-8574-b16af0670c14"
      },
      "execution_count": null,
      "outputs": [
        {
          "output_type": "stream",
          "name": "stdout",
          "text": [
            "las claves del diccionario son:\n",
            "nombres\n",
            "edad\n"
          ]
        }
      ]
    },
    {
      "cell_type": "code",
      "source": [],
      "metadata": {
        "id": "qszR5icMrh09"
      },
      "execution_count": null,
      "outputs": []
    },
    {
      "cell_type": "markdown",
      "source": [
        "**p)** Escribe un programa que tome una lista de números como entrada y devuelva el valor máximo en la lista."
      ],
      "metadata": {
        "id": "jkgbFL_bsJqU"
      }
    },
    {
      "cell_type": "code",
      "source": [
        "mayor=[1,2,3,4,5,6,10,8]\n",
        "mayorr=mayor[0]\n",
        "for numero in mayor:\n",
        "  if numero>mayorr:\n",
        "    mayorr=numero\n",
        "print(mayorr)"
      ],
      "metadata": {
        "colab": {
          "base_uri": "https://localhost:8080/"
        },
        "id": "WNxpHSRwsKrv",
        "outputId": "b000fbb8-b692-4d41-9848-79d0e50611d4"
      },
      "execution_count": null,
      "outputs": [
        {
          "output_type": "stream",
          "name": "stdout",
          "text": [
            "10\n"
          ]
        }
      ]
    },
    {
      "cell_type": "markdown",
      "source": [
        "**q)** Crea un programa que tome una cadena como entrada y devuelva una nueva cadena que contenga solo las vocales en la cadena original."
      ],
      "metadata": {
        "id": "sfVCsPyyu8Qc"
      }
    },
    {
      "cell_type": "code",
      "source": [
        "musica=\"muercielago\"\n",
        "vocales=[]\n",
        "for letras in musica:\n",
        "  if letras in \"aeiouAEIOU\":\n",
        "    vocales.append(letras)\n",
        "    vocales_cadena=\"\".join(vocales)\n",
        "print(\"Las vocales de la cadena son:\",vocales_cadena)"
      ],
      "metadata": {
        "colab": {
          "base_uri": "https://localhost:8080/"
        },
        "id": "pdw7DU7ju4np",
        "outputId": "45bbc5ec-2012-413e-d858-7a647392fe7a"
      },
      "execution_count": null,
      "outputs": [
        {
          "output_type": "stream",
          "name": "stdout",
          "text": [
            "Las vocales de la cadena son: ueieao\n"
          ]
        }
      ]
    },
    {
      "cell_type": "markdown",
      "source": [
        "r) Escribe un programa que tome una lista de números como entrada y devuelva una nueva lista que contenga los valores al cuadrado de cada número en la lista original."
      ],
      "metadata": {
        "id": "6EQhcDcS7Z1V"
      }
    },
    {
      "cell_type": "code",
      "source": [
        "numeros=[1,2,3,4,5,6,7,8,9,10,5000]\n",
        "elevados=[]\n",
        "for valores in numeros:\n",
        "  cuadrado= valores**2\n",
        "  elevados.append(cuadrado)\n",
        "print(elevados)"
      ],
      "metadata": {
        "colab": {
          "base_uri": "https://localhost:8080/"
        },
        "id": "rMcvJOv9zW-y",
        "outputId": "0826827b-54bc-4a18-aa33-4dfd2083e416"
      },
      "execution_count": null,
      "outputs": [
        {
          "output_type": "stream",
          "name": "stdout",
          "text": [
            "[1, 4, 9, 16, 25, 36, 49, 64, 81, 100, 25000000]\n"
          ]
        }
      ]
    },
    {
      "cell_type": "markdown",
      "source": [
        "**s)** Crea un programa que tome una cadena como entrada y devuelva una nueva cadena con los caracteres en orden inverso."
      ],
      "metadata": {
        "id": "tl4TB_KH9zgu"
      }
    },
    {
      "cell_type": "code",
      "source": [
        "vida=\"cantar\"\n",
        "for i in range(len(vida)-1,-1,-1):\n",
        "  print(vida[i],end=\"\")\n",
        "print ()\n",
        "\n"
      ],
      "metadata": {
        "colab": {
          "base_uri": "https://localhost:8080/"
        },
        "id": "-Et53jpB93X0",
        "outputId": "f8ed232e-c85f-4151-8a7b-03a1e1c722c1"
      },
      "execution_count": null,
      "outputs": [
        {
          "output_type": "stream",
          "name": "stdout",
          "text": [
            "ratnac\n"
          ]
        }
      ]
    },
    {
      "cell_type": "code",
      "source": [
        "vida = 'bailar'\n",
        "vida_invertida = vida[::-1]\n",
        "print(vida_invertida)"
      ],
      "metadata": {
        "colab": {
          "base_uri": "https://localhost:8080/"
        },
        "id": "lTYnnwc2goxf",
        "outputId": "1d36ca6b-7300-4740-e4a6-08e31d0a2e6a"
      },
      "execution_count": null,
      "outputs": [
        {
          "output_type": "stream",
          "name": "stdout",
          "text": [
            "raliab\n"
          ]
        }
      ]
    },
    {
      "cell_type": "markdown",
      "source": [
        "**t)** Escribe un programa que tome una lista de cadenas como entrada y devuelva una nueva lista que contenga la longitud de cada cadena en la lista original."
      ],
      "metadata": {
        "id": "8WsCFoZSCErV"
      }
    },
    {
      "cell_type": "code",
      "source": [
        "a = [\"Pera\", \"Uvas\", \"Manzana\", \"Mango\", \"Sandia\", \"Fresa\"]\n",
        "\n",
        "longitudes=list(map(len,a))\n",
        "print(longitudes)\n"
      ],
      "metadata": {
        "colab": {
          "base_uri": "https://localhost:8080/"
        },
        "id": "R68qY0uHH8H7",
        "outputId": "19837925-f271-4357-8ef5-42698901cf83"
      },
      "execution_count": null,
      "outputs": [
        {
          "output_type": "stream",
          "name": "stdout",
          "text": [
            "[4, 4, 7, 5, 6, 5]\n"
          ]
        }
      ]
    },
    {
      "cell_type": "code",
      "source": [
        "a = [\"Pera\", \"Uvas\", \"Manzana\", \"Mango\", \"Sandia\", \"Fresa\"]\n",
        "cantidad=[]\n",
        "for palabra in a:\n",
        "  longitud=len(palabra)\n",
        "  cantidad.append(longitud)\n",
        "print(cantidad)\n",
        " "
      ],
      "metadata": {
        "id": "eYwvIv2R3NeX",
        "colab": {
          "base_uri": "https://localhost:8080/"
        },
        "outputId": "20abb228-08c4-4a55-c29b-80873b6c5a62"
      },
      "execution_count": null,
      "outputs": [
        {
          "output_type": "stream",
          "name": "stdout",
          "text": [
            "[4, 4, 7, 5, 6, 5]\n"
          ]
        }
      ]
    },
    {
      "cell_type": "code",
      "source": [],
      "metadata": {
        "id": "DLRpFmafiGr8"
      },
      "execution_count": null,
      "outputs": []
    }
  ]
}
